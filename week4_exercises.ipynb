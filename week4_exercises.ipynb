{
  "cells": [
    {
      "cell_type": "markdown",
      "metadata": {},
      "source": [
        "# Introduction to Data Science 2025\n",
        "\n",
        "# Week 4"
      ]
    },
    {
      "cell_type": "markdown",
      "metadata": {},
      "source": [
        "In this week's exercise, we look at prompting and zero- and few-shot task settings. Below is a text generation example from https://github.com/TurkuNLP/intro-to-nlp/blob/master/text_generation_pipeline_example.ipynb demonstrating how to load a text generation pipeline with a pre-trained model and generate text with a given prompt. Your task is to load a similar pre-trained generative model and assess whether the model succeeds at a set of tasks in zero-shot, one-shot, and two-shot settings.\n",
        "\n",
        "**Note: Downloading and running the pre-trained model locally may take some time. Alternatively, you can open and run this notebook on [Google Colab](https://colab.research.google.com/), as assumed in the following example.**"
      ]
    },
    {
      "cell_type": "markdown",
      "metadata": {
        "id": "tIQ1s96UCcJW"
      },
      "source": [
        "## Text generation example\n",
        "\n",
        "This is a brief example of how to run text generation with a causal language model and `pipeline`.\n",
        "\n",
        "Install [transformers](https://huggingface.co/docs/transformers/index) python package. This will be used to load the model and tokenizer and to run generation."
      ]
    },
    {
      "cell_type": "code",
      "execution_count": 50,
      "metadata": {
        "id": "4fUBJmXHCHw-"
      },
      "outputs": [],
      "source": [
        "#!pip install --quiet transformers"
      ]
    },
    {
      "cell_type": "markdown",
      "metadata": {
        "id": "5ZRNZgRJCt6Q"
      },
      "source": [
        "Import the `AutoTokenizer`, `AutoModelForCausalLM`, and `pipeline` classes. The first two support loading tokenizers and generative models from the [Hugging Face repository](https://huggingface.co/models), and the last wraps a tokenizer and a model for convenience."
      ]
    },
    {
      "cell_type": "code",
      "execution_count": 51,
      "metadata": {
        "id": "jwyK005xCFSF"
      },
      "outputs": [],
      "source": [
        "from transformers import AutoTokenizer, AutoModelForCausalLM, pipeline"
      ]
    },
    {
      "cell_type": "markdown",
      "metadata": {
        "id": "6QJPDe3ZC_sL"
      },
      "source": [
        "Load a generative model and its tokenizer. You can substitute any other generative model name here (e.g. [other TurkuNLP GPT-3 models](https://huggingface.co/models?sort=downloads&search=turkunlp%2Fgpt3)), but note that Colab may have issues running larger models. "
      ]
    },
    {
      "cell_type": "code",
      "execution_count": 52,
      "metadata": {
        "id": "wqTxn_QaCNjZ"
      },
      "outputs": [],
      "source": [
        "MODEL_NAME = 'TurkuNLP/gpt3-finnish-large'\n",
        "\n",
        "tokenizer = AutoTokenizer.from_pretrained(MODEL_NAME)\n",
        "model = AutoModelForCausalLM.from_pretrained(MODEL_NAME)"
      ]
    },
    {
      "cell_type": "markdown",
      "metadata": {
        "id": "9ADWWb77e1sY"
      },
      "source": [
        "Instantiate a text generation pipeline using the tokenizer and model."
      ]
    },
    {
      "cell_type": "code",
      "execution_count": 53,
      "metadata": {
        "id": "0IIJzNrEe5qx"
      },
      "outputs": [
        {
          "name": "stderr",
          "output_type": "stream",
          "text": [
            "Device set to use cpu\n"
          ]
        }
      ],
      "source": [
        "pipe = pipeline(\n",
        "    'text-generation',\n",
        "    model=model,\n",
        "    tokenizer=tokenizer,\n",
        "    device=model.device\n",
        ")"
      ]
    },
    {
      "cell_type": "markdown",
      "metadata": {
        "id": "eAohNr1ciwaU"
      },
      "source": [
        "We can now call the pipeline with a text prompt; it will take care of tokenizing, encoding, generation, and decoding:"
      ]
    },
    {
      "cell_type": "code",
      "execution_count": 54,
      "metadata": {
        "colab": {
          "base_uri": "https://localhost:8080/"
        },
        "id": "jWcOJkiKi5vr",
        "outputId": "11cb09ab-310d-438e-e372-ef8d7f8f66a2"
      },
      "outputs": [
        {
          "name": "stdout",
          "output_type": "stream",
          "text": [
            "[{'generated_text': 'Terve, miten menee?”\\n”Ihan hyvin, kiitos kysymästä.”\\n”Mistä olet saanut idean tähän?”\\n”Siitä että me olemme nykyään'}]\n"
          ]
        }
      ],
      "source": [
        "output = pipe('Terve, miten menee?', max_new_tokens=25)\n",
        "\n",
        "print(output)"
      ]
    },
    {
      "cell_type": "markdown",
      "metadata": {
        "id": "SNRMsxXOjSo0"
      },
      "source": [
        "Just print the text"
      ]
    },
    {
      "cell_type": "code",
      "execution_count": 55,
      "metadata": {
        "colab": {
          "base_uri": "https://localhost:8080/"
        },
        "id": "9Op7MJ6XjahG",
        "outputId": "5d9e26dd-3e80-4663-a712-d85093fad073"
      },
      "outputs": [
        {
          "name": "stdout",
          "output_type": "stream",
          "text": [
            "Terve, miten menee?”\n",
            "”Ihan hyvin, kiitos kysymästä.”\n",
            "”Mistä olet saanut idean tähän?”\n",
            "”Siitä että me olemme nykyään\n"
          ]
        }
      ],
      "source": [
        "print(output[0]['generated_text'])"
      ]
    },
    {
      "cell_type": "markdown",
      "metadata": {
        "id": "YROp3hyikXPO"
      },
      "source": [
        "We can also call the pipeline with any arguments that the model `generate` function supports. For details on text generation using `transformers`, see e.g. [this tutorial](https://huggingface.co/blog/how-to-generate).\n",
        "\n",
        "Example with sampling and a high `temperature` parameter to generate more chaotic output:"
      ]
    },
    {
      "cell_type": "code",
      "execution_count": 56,
      "metadata": {
        "colab": {
          "base_uri": "https://localhost:8080/"
        },
        "id": "22QjXE88jkim",
        "outputId": "372a4fc2-e305-4034-cea3-a52b6103c24f"
      },
      "outputs": [
        {
          "name": "stdout",
          "output_type": "stream",
          "text": [
            "Terve, miten menee? Ja paljon olet tehnyt tällä hetkellä sen kuntokurssin kanssa...? Toivottavasti et oo lopettamassa blogia...? Onko susta kiva vaan laittaa joskus \"moi\n"
          ]
        }
      ],
      "source": [
        "output = pipe(\n",
        "    'Terve, miten menee?',\n",
        "    do_sample=True,\n",
        "    temperature=10.0,\n",
        "    max_new_tokens=25\n",
        ")\n",
        "\n",
        "print(output[0]['generated_text'])"
      ]
    },
    {
      "cell_type": "markdown",
      "metadata": {},
      "source": [
        "## Exercise 1\n",
        "\n",
        "Your task is to assess whether a generative model succeeds in the following tasks in zero-shot, one-shot, and two-shot settings:\n",
        "\n",
        "- binary sentiment classification (positive / negative)\n",
        "\n",
        "- person name recognition\n",
        "\n",
        "- two-digit addition (e.g. 11 + 22 = 33)\n",
        "\n",
        "For example, for assessing whether a generative model can name capital cities, we could use the following prompts:\n",
        "\n",
        "- zero-shot:\n",
        "\t>\"\"\"\\\n",
        "\t>Identify the capital cities of countries.\n",
        "\t>\n",
        "\t>Question: What is the capital of Finland?\\\n",
        "\t>Answer:\\\n",
        "\t>\"\"\"\n",
        "- one-shot:\n",
        "\t>\"\"\"\\\n",
        "\t>Identify the capital cities of countries.\n",
        "\t>\n",
        "\t>Question: What is the capital of Sweden?\\\n",
        "\t>Answer: Stockholm\n",
        "\t>\n",
        "\t>Question: What is the capital of Finland?\\\n",
        "\t>Answer:\\\n",
        "\t>\"\"\"\n",
        "- two-shot:\n",
        "\t>\"\"\"\\\n",
        "\t>Identify the capital cities of countries.\n",
        "\t>\n",
        "\t>Question: What is the capital of Sweden?\\\n",
        "\t>Answer: Stockholm\n",
        "\t>\n",
        "\t>Question: What is the capital of Denmark?\\\n",
        "\t>Answer: Copenhagen\n",
        "\t>\n",
        "\t>Question: What is the capital of Finland?\\\n",
        "\t>Answer:\\\n",
        "\t>\"\"\"\n",
        "\n",
        "You can do the tasks either in English or Finnish and use a generative model of your choice from the Hugging Face models repository, for example the following models:\n",
        "\n",
        "- English: `gpt2-large`\n",
        "- Finnish: `TurkuNLP/gpt3-finnish-large`\n",
        "\n",
        "You can either come up with your own instructions for the tasks or use the following:\n",
        "\n",
        "- English:\n",
        "\t- binary sentiment classification: \"Do the following texts express a positive or negative sentiment?\"\n",
        "\t- person name recognition: \"List the person names occurring in the following texts.\"\n",
        "\t- two-digit addition: \"This is a first grade math exam.\"\n",
        "- Finnish:\n",
        "\t- binary sentiment classification: \"Ilmaisevatko seuraavat tekstit positiivista vai negatiivista tunnetta?\"\n",
        "\t- person name recognition: \"Listaa seuraavissa teksteissä mainitut henkilönnimet.\"\n",
        "\t- two-digit addition: \"Tämä on ensimmäisen luokan matematiikan koe.\"\n",
        "\n",
        "Come up with at least two test cases for each of the three tasks, and come up with your own one- and two-shot examples."
      ]
    },
    {
      "cell_type": "code",
      "execution_count": 65,
      "metadata": {},
      "outputs": [
        {
          "name": "stderr",
          "output_type": "stream",
          "text": [
            "Device set to use cpu\n"
          ]
        },
        {
          "name": "stdout",
          "output_type": "stream",
          "text": [
            "onko helsinki Suomen pääkaupunki?\"\n",
            "\n",
            "- Jos ei ole, niin sitten se ei ole, kun ei ole edes mitään historiallista pääkaupunkia Suomessa.\n",
            "onko helsinki Suomen pääkaupunki? On. Onko Tukholma Ruotsin pääkaupunki? Onko Lontoo Englannin pääkaupunki? On. Onko Tukholma Ruotsin pääkaupunki? On. Onko Lontoo Englannin pääkaupunki? Ei. Onko Helsinki Suomen pääkaupunki\n",
            "onko helsinki Suomen pääkaupunki? On. Onko Tukholma Ruotsin pääkaupunki? On. Onko Oslo Tukholman pääkaupunki? On. Onko Lontoo Lontoon pääkaupunki? On. Onko Pariisi Pariisin pääkaupunki? On. Onko Rooma Rooman pääkaupunki? On. Onko Madrid\n"
          ]
        }
      ],
      "source": [
        "pipe = pipeline(\n",
        "    'text-generation',\n",
        "    model=model,\n",
        "    tokenizer=tokenizer,\n",
        "    device=model.device\n",
        ")\n",
        "\n",
        "# One shot\n",
        "output = pipe(\n",
        "    'onko helsinki Suomen pääkaupunki?',\n",
        "    max_new_tokens=25\n",
        ")\n",
        "\n",
        "print(output[0]['generated_text'])\n",
        "\n",
        "# Two shot\n",
        "output = pipe(\n",
        "    'onko helsinki Suomen pääkaupunki? On. Onko Tukholma Ruotsin pääkaupunki?',\n",
        "    max_new_tokens=25\n",
        ")\n",
        "print(output[0]['generated_text'])\n",
        "\n",
        "\n",
        "# Three shot\n",
        "output = pipe(\n",
        "    'onko helsinki Suomen pääkaupunki? On. Onko Tukholma Ruotsin pääkaupunki? On. Onko Oslo Tukholman pääkaupunki?',\n",
        "    max_new_tokens=25\n",
        ")\n",
        "print(output[0]['generated_text'])\n"
      ]
    },
    {
      "cell_type": "code",
      "execution_count": 78,
      "metadata": {},
      "outputs": [
        {
          "name": "stdout",
          "output_type": "stream",
          "text": [
            " 1 Fold\n",
            "Kysymys :Ovatko lääkärit Positiivisia yhteiskunnalle? Vastaus:Lääkärit ovat yhteiskunnalle tarpeellisia. On hyvä antaa ihmisille mahdollisuus saada hoitoa, jos he ovat sairaita. Jos ei ole lääkäreitä, ei ole\n",
            " 2 Fold\n",
            "Kysymys :Ovatko lääkärit Positiivisia yhteiskunnalle? Vastaus: Ovat. Kysymys: Ovatko varkaat positiivisia yhteiskunnalle? Vastaus: Ovat. Kysymys: Onko rikollinen positiivinen yhteiskunnalle? Vastaus: Ovat. Kysymys: Onko raiskaaja positiivinen yhteiskunnalle? Vastaus: Ovat. Kysymys: Onko joku negatiivinen\n",
            " 3 Fold\n",
            "Kysymys :Ovatko lääkärit Positiivisia yhteiskunnalle? Vastaus: Ovat. Kysymys: Ovatko varkaat positiivisia yhteiskunnalle? Vastaus: eivät ole. Kysymys: Ovatko opiskelijat hyödyllisiä yhteiskunnalle? Vastaus: Ovat. Kysymys: Ovatko työntekijät positiivisia yhteiskunnalle? Vastaus: Ovat. Kysymys: Ovatko potilaat positiivisia yhteiskunnalle? Vastaus: Ovat. Kysymys: Ovatko potilaat\n"
          ]
        }
      ],
      "source": [
        "print(\" 1 Fold\")\n",
        "\n",
        "output = pipe(\n",
        "    'Kysymys :Ovatko lääkärit Positiivisia yhteiskunnalle? Vastaus:',\n",
        "    max_new_tokens=25\n",
        ")\n",
        "print(output[0]['generated_text'])\n",
        "\n",
        "print(\" 2 Fold\")\n",
        "output = pipe(\n",
        "    'Kysymys :Ovatko lääkärit Positiivisia yhteiskunnalle? Vastaus: Ovat. Kysymys: Ovatko varkaat positiivisia yhteiskunnalle? Vastaus:',\n",
        "    max_new_tokens=25\n",
        ")\n",
        "print(output[0]['generated_text'])\n",
        "\n",
        "print(\" 3 Fold\")\n",
        "output = pipe(\n",
        "    'Kysymys :Ovatko lääkärit Positiivisia yhteiskunnalle? Vastaus: Ovat. Kysymys: Ovatko varkaat positiivisia yhteiskunnalle? Vastaus: eivät ole. Kysymys: Ovatko opiskelijat hyödyllisiä yhteiskunnalle',\n",
        "    max_new_tokens=25\n",
        ")\n",
        "print(output[0]['generated_text'])"
      ]
    },
    {
      "cell_type": "markdown",
      "metadata": {},
      "source": [
        "This model is wildin"
      ]
    },
    {
      "cell_type": "code",
      "execution_count": 86,
      "metadata": {},
      "outputs": [
        {
          "name": "stdout",
          "output_type": "stream",
          "text": [
            " 1 Fold\n",
            "Kysymys: Mitä on 44+2. Vastaus: Synnytyksen kesto voi olla 45 min. ja alle. Synnytys voi olla myös 45 min.\n",
            "\n",
            "Mitä on 45+2? Vastaus: Synnyt\n",
            " 2 Fold\n",
            "Kysymys: Mitä on 44+2. Vastaus: 46. Kysymys: Mitä on 23+2. Vastaus: 2. Kysymys: Mitä on 23+6. Vastaus: 3. Kysymys: Mitä on 10+0. Vastaus: 4. Kysymys: Mitä on 2+0\n",
            " 3 Fold\n",
            "Kysymys: Mitä on 44+2. Vastaus: 46. Kysymys: Mitä on 23+2. Vastaus: 25. Kysymys: Mitä on 55+30. Vastaus: 53. Kysymys: Mitä on 33+33. Vastaus: 33.\n",
            "Mitä tarkoittaa 43+2?\n",
            "Vastaus: 43. Kysymys: Mitä tarkoittaa 53+\n"
          ]
        }
      ],
      "source": [
        "print(\" 1 Fold\")\n",
        "output = pipe(\n",
        "    'Kysymys: Mitä on 44+2. Vastaus:',\n",
        "    max_new_tokens=25\n",
        ")\n",
        "print(output[0]['generated_text'])\n",
        "\n",
        "print(\" 2 Fold\")\n",
        "output = pipe(\n",
        "    'Kysymys: Mitä on 44+2. Vastaus: 46. Kysymys: Mitä on 23+2. Vastaus:',\n",
        "    max_new_tokens=25\n",
        ")\n",
        "print(output[0]['generated_text'])\n",
        "\n",
        "print(\" 3 Fold\")\n",
        "output = pipe(\n",
        "    'Kysymys: Mitä on 44+2. Vastaus: 46. Kysymys: Mitä on 23+2. Vastaus: 25. Kysymys: Mitä on 55+30. Vastaus:',\n",
        "    max_new_tokens=25\n",
        ")\n",
        "print(output[0]['generated_text'])"
      ]
    },
    {
      "cell_type": "markdown",
      "metadata": {},
      "source": [
        "This is wildin."
      ]
    },
    {
      "cell_type": "markdown",
      "metadata": {},
      "source": [
        "**Submit this exercise by submitting your code and your answers to the above questions as comments on the MOOC platform. You can return this Jupyter notebook (.ipynb) or .py, .R, etc depending on your programming preferences.**"
      ]
    },
    {
      "cell_type": "markdown",
      "metadata": {},
      "source": []
    }
  ],
  "metadata": {
    "colab": {
      "authorship_tag": "ABX9TyMPTKW2dgboQJpXpHYIBCHp",
      "include_colab_link": true,
      "provenance": []
    },
    "kernelspec": {
      "display_name": "Python 3",
      "name": "python3"
    },
    "language_info": {
      "codemirror_mode": {
        "name": "ipython",
        "version": 3
      },
      "file_extension": ".py",
      "mimetype": "text/x-python",
      "name": "python",
      "nbconvert_exporter": "python",
      "pygments_lexer": "ipython3",
      "version": "3.12.2"
    }
  },
  "nbformat": 4,
  "nbformat_minor": 0
}
